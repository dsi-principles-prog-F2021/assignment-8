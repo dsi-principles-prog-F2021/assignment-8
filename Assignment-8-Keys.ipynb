{
 "cells": [
  {
   "cell_type": "markdown",
   "id": "64e62868",
   "metadata": {},
   "source": [
    "# Assignment 8 - Control Flow\n"
   ]
  },
  {
   "cell_type": "markdown",
   "id": "67df0a30",
   "metadata": {},
   "source": [
    "## Part 1 (100 pts)"
   ]
  },
  {
   "cell_type": "markdown",
   "id": "65c034c1",
   "metadata": {},
   "source": [
    "### 1. Create two empty lists called M and N. In a for loop, fill M with all numbers less than 100 that are divisible by 5 but not by 3. Fill N with ALL OTHER numbers that are divisible by 7 but not by 2. (Note: the list should not include 100, N should not include any numbers in M) (10 pts)"
   ]
  },
  {
   "cell_type": "code",
   "execution_count": 1,
   "id": "7be096d4",
   "metadata": {},
   "outputs": [
    {
     "name": "stdout",
     "output_type": "stream",
     "text": [
      "[5, 10, 20, 25, 35, 40, 50, 55, 65, 70, 80, 85, 95]\n",
      "[7, 21, 49, 63, 77, 91]\n"
     ]
    }
   ],
   "source": [
    "M = []\n",
    "N = []\n",
    "for i in range(100):\n",
    "    if i % 5 == 0 and i % 3 != 0:\n",
    "        M.append(i)\n",
    "    elif i % 7 == 0 and i % 2 != 0:\n",
    "        N.append(i)\n",
    "print(M)\n",
    "print(N)"
   ]
  },
  {
   "cell_type": "markdown",
   "id": "3476b3ed",
   "metadata": {},
   "source": [
    "### 2. Do the same thing, this time using a while loop. (Note : make sure you re-initialize M and N to be empty!) (10 pts)\n",
    "\n"
   ]
  },
  {
   "cell_type": "code",
   "execution_count": 3,
   "id": "46594789",
   "metadata": {},
   "outputs": [
    {
     "name": "stdout",
     "output_type": "stream",
     "text": [
      "[5, 10, 20, 25, 35, 40, 50, 55, 65, 70, 80, 85, 95]\n",
      "[7, 21, 49, 63, 77, 91]\n"
     ]
    }
   ],
   "source": [
    "M = []\n",
    "N = []\n",
    "i = 0\n",
    "while i < 100:\n",
    "    if i % 5 == 0 and i % 3 != 0:\n",
    "        M.append(i)\n",
    "    elif i % 7 == 0 and i % 2 != 0:\n",
    "        N.append(i)\n",
    "    i+=1\n",
    "print(M)\n",
    "print(N)"
   ]
  },
  {
   "cell_type": "markdown",
   "id": "7dfbe0e0",
   "metadata": {},
   "source": [
    "### 3. Do the same thing, this time using list comprehension. (Note : this time you shouldn't need to initialize M and N!) (10 pts)"
   ]
  },
  {
   "cell_type": "code",
   "execution_count": 6,
   "id": "f46e0852",
   "metadata": {},
   "outputs": [
    {
     "name": "stdout",
     "output_type": "stream",
     "text": [
      "[5, 10, 20, 25, 35, 40, 50, 55, 65, 70, 80, 85, 95]\n",
      "[7, 21, 49, 63, 77, 91]\n"
     ]
    }
   ],
   "source": [
    "M = [i for i in range(100) if i % 5 == 0 and i % 3 != 0]\n",
    "N = [i for i in range(100) if i % 7 == 0 and i % 2 != 0 and i not in M]\n",
    "print(M)\n",
    "print(N)"
   ]
  },
  {
   "cell_type": "markdown",
   "id": "d72781aa",
   "metadata": {},
   "source": [
    "### 4. Write code which prints all the divisors of  a number. (10 pts)\n",
    "***Hints: the divisors of a number is in the range of (2, num). For every number in this range, check whether the number is the divisor or not.***"
   ]
  },
  {
   "cell_type": "code",
   "execution_count": 9,
   "id": "c41a8a4e",
   "metadata": {},
   "outputs": [
    {
     "data": {
      "text/plain": [
       "[2,\n",
       " 3,\n",
       " 4,\n",
       " 5,\n",
       " 6,\n",
       " 8,\n",
       " 10,\n",
       " 12,\n",
       " 15,\n",
       " 16,\n",
       " 20,\n",
       " 24,\n",
       " 30,\n",
       " 32,\n",
       " 40,\n",
       " 48,\n",
       " 60,\n",
       " 64,\n",
       " 80,\n",
       " 96,\n",
       " 120,\n",
       " 160,\n",
       " 192,\n",
       " 240,\n",
       " 320,\n",
       " 480]"
      ]
     },
     "execution_count": 9,
     "metadata": {},
     "output_type": "execute_result"
    }
   ],
   "source": [
    "number_to_be_divided = 960\n",
    "def divisor(num):\n",
    "    result = []\n",
    "    for i in range(2, num):\n",
    "        if num % i == 0:\n",
    "            result.append(i)\n",
    "    return result\n",
    "divisor(number_to_be_divided)"
   ]
  },
  {
   "cell_type": "markdown",
   "id": "10d1958b",
   "metadata": {},
   "source": [
    "### 5.Given a list called A. Find the maximum and minimum number in this list. (20 pts)"
   ]
  },
  {
   "cell_type": "code",
   "execution_count": 11,
   "id": "0448178a",
   "metadata": {},
   "outputs": [
    {
     "name": "stdout",
     "output_type": "stream",
     "text": [
      "920 1\n"
     ]
    }
   ],
   "source": [
    "A = [2,59,10,294,3,520,3,1,55,920]\n",
    "max = 0\n",
    "min = 999999\n",
    "for i in A:\n",
    "    if i > max:\n",
    "        max = i\n",
    "    if i < min:\n",
    "        min = i\n",
    "print(max, min)"
   ]
  },
  {
   "cell_type": "markdown",
   "id": "14e804c5",
   "metadata": {},
   "source": [
    "### 6. In mathematics, the factorial of a positive integer n, denoted by n! Write a Python program to calculate factorial of a number. (20 pts)\n",
    "***Hints: Use the for loop to achieve the formula for n!***"
   ]
  },
  {
   "cell_type": "code",
   "execution_count": 12,
   "id": "0c56563e",
   "metadata": {},
   "outputs": [
    {
     "data": {
      "text/plain": [
       "479001600"
      ]
     },
     "execution_count": 12,
     "metadata": {},
     "output_type": "execute_result"
    }
   ],
   "source": [
    "num = 12\n",
    "def factorial(num):\n",
    "    result = 1\n",
    "    for i in range(1, num + 1):\n",
    "        result *= i\n",
    "    return result\n",
    "factorial(num)"
   ]
  },
  {
   "cell_type": "markdown",
   "id": "9756ef3b",
   "metadata": {},
   "source": [
    "### 7. The Fibonacci Sequence is the series of numbers :0, 1, 1, 2, 3, 5, 8, 13, 21, .... Write a Python program to get the Fibonacci series between 0 to 50. (20 pts)\n",
    "***Hints: Initial x = 0, y = 1. Use a while loop to calculate the fibonacci formula, update x, y and print your result.***"
   ]
  },
  {
   "cell_type": "code",
   "execution_count": 13,
   "id": "eebe599b",
   "metadata": {},
   "outputs": [
    {
     "name": "stdout",
     "output_type": "stream",
     "text": [
      "[0, 1, 1, 2, 3, 5, 8, 13, 21, 34]\n"
     ]
    }
   ],
   "source": [
    "s = 0\n",
    "x = 0\n",
    "y = 1\n",
    "result = [0,1]\n",
    "while x + y < 50:\n",
    "    s = x + y\n",
    "    result.append(s)\n",
    "    x = y\n",
    "    y = s\n",
    "    \n",
    "print(result)"
   ]
  },
  {
   "cell_type": "markdown",
   "id": "098db5b1",
   "metadata": {},
   "source": [
    "## BONUS (20 pts)"
   ]
  },
  {
   "cell_type": "markdown",
   "id": "1825db53",
   "metadata": {},
   "source": [
    "### 1. Given a list S of numbers. Write a Python program to find the most occurrence number and its number of occurrences. (10 pts)"
   ]
  },
  {
   "cell_type": "code",
   "execution_count": 1,
   "id": "5d8d9677",
   "metadata": {},
   "outputs": [
    {
     "name": "stdout",
     "output_type": "stream",
     "text": [
      "The most occurence number is 4 and its number of occurences is 5\n"
     ]
    }
   ],
   "source": [
    "S = [1,1,4,6,2,7,4,9,3,4,8,4,6,22,26,4,7]\n",
    "map = {}\n",
    "for s in S:\n",
    "    if s not in map.keys():\n",
    "        map[s] = 1\n",
    "    else:\n",
    "        map[s] += 1\n",
    "\n",
    "m = 0\n",
    "n = 0\n",
    "for k in list(map.keys()):\n",
    "    if map[k] > m:\n",
    "        m = map[k]\n",
    "        n = k\n",
    "print(\"The most occurence number is %d and its number of occurences is %d\" %(n,m))"
   ]
  },
  {
   "cell_type": "markdown",
   "id": "011496e3",
   "metadata": {},
   "source": [
    "### 2. Given a positive integer. Write a Python program to print all prime numbers less than this number. (10 pts)"
   ]
  },
  {
   "cell_type": "code",
   "execution_count": 7,
   "id": "fb3eec27",
   "metadata": {},
   "outputs": [
    {
     "name": "stdout",
     "output_type": "stream",
     "text": [
      "2\n",
      "3\n",
      "5\n",
      "7\n",
      "11\n",
      "13\n",
      "17\n",
      "19\n",
      "23\n",
      "29\n",
      "31\n",
      "37\n",
      "41\n",
      "43\n",
      "47\n",
      "53\n",
      "59\n",
      "61\n",
      "67\n",
      "71\n",
      "73\n"
     ]
    }
   ],
   "source": [
    "n = 78\n",
    "for i in range(n):\n",
    "    if i > 1:\n",
    "        for j in range(2, i):\n",
    "            if(i % j == 0):\n",
    "                break\n",
    "        else:\n",
    "            print(i)"
   ]
  },
  {
   "cell_type": "code",
   "execution_count": null,
   "id": "6f462d9c",
   "metadata": {},
   "outputs": [],
   "source": []
  }
 ],
 "metadata": {
  "kernelspec": {
   "display_name": "Python 3",
   "language": "python",
   "name": "python3"
  },
  "language_info": {
   "codemirror_mode": {
    "name": "ipython",
    "version": 3
   },
   "file_extension": ".py",
   "mimetype": "text/x-python",
   "name": "python",
   "nbconvert_exporter": "python",
   "pygments_lexer": "ipython3",
   "version": "3.8.8"
  }
 },
 "nbformat": 4,
 "nbformat_minor": 5
}

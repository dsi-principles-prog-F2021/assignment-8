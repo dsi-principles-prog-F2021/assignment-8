{
 "cells": [
  {
   "cell_type": "markdown",
   "id": "64e62868",
   "metadata": {},
   "source": [
    "# Assignment 8 - Control Flow\n"
   ]
  },
  {
   "cell_type": "markdown",
   "id": "67df0a30",
   "metadata": {},
   "source": [
    "## Part 1 (100 pts)"
   ]
  },
  {
   "cell_type": "markdown",
   "id": "65c034c1",
   "metadata": {},
   "source": [
    "### 1. Create two empty list called M and N. In a for loop, fill M with all numbers less than 100 that are divisible by 5 but not by 3. Fill N with ALL OTHER numbers that are divisible by 7 but not by 2. (Note : the list should not include 100, N should not include any numbers in M) (10 pts)"
   ]
  },
  {
   "cell_type": "code",
   "execution_count": null,
   "id": "7be096d4",
   "metadata": {},
   "outputs": [],
   "source": []
  },
  {
   "cell_type": "markdown",
   "id": "3476b3ed",
   "metadata": {},
   "source": [
    "### 2. Do the same thing, this time using a while loop. (Note : make sure you re-initialize M and N to be empty!) (10 pts)\n",
    "\n"
   ]
  },
  {
   "cell_type": "code",
   "execution_count": null,
   "id": "7029485d",
   "metadata": {},
   "outputs": [],
   "source": []
  },
  {
   "cell_type": "markdown",
   "id": "7dfbe0e0",
   "metadata": {},
   "source": [
    "### 3. Do the same thing, this time using list comprehension. (Note : this time you shouldn't need to initialize M and N!) (10 pts)"
   ]
  },
  {
   "cell_type": "code",
   "execution_count": null,
   "id": "f46e0852",
   "metadata": {},
   "outputs": [],
   "source": []
  },
  {
   "cell_type": "markdown",
   "id": "d72781aa",
   "metadata": {},
   "source": [
    "### 4. Write code which prints all the divisors of  a number. (10 pts)\n",
    "***Hints: the divisors of a number is in the range of (2, num/2). For every number in this range, check whether the number is the divisor or not.***"
   ]
  },
  {
   "cell_type": "code",
   "execution_count": null,
   "id": "c41a8a4e",
   "metadata": {},
   "outputs": [],
   "source": [
    "number_to_be_divided = 960"
   ]
  },
  {
   "cell_type": "markdown",
   "id": "10d1958b",
   "metadata": {},
   "source": [
    "### 5.Given a list called A. Find the maximum and minimum number in this list. (10 pts)"
   ]
  },
  {
   "cell_type": "code",
   "execution_count": 1,
   "id": "0448178a",
   "metadata": {},
   "outputs": [],
   "source": [
    "A = [2,59,10,294,3,520,3,1,55,920]"
   ]
  },
  {
   "cell_type": "markdown",
   "id": "14e804c5",
   "metadata": {},
   "source": [
    "### 6. In mathematics, the factorial of a positive integer n, denoted by n! Write a Python program to calculate factorial of a number. (20 pts)\n",
    "***Hints: Use the for loop to achieve the formula for n!***"
   ]
  },
  {
   "cell_type": "code",
   "execution_count": 5,
   "id": "0c56563e",
   "metadata": {},
   "outputs": [],
   "source": [
    "num = 12"
   ]
  },
  {
   "cell_type": "markdown",
   "id": "9756ef3b",
   "metadata": {},
   "source": [
    "### 7. The Fibonacci Sequence is the series of numbers :0, 1, 1, 2, 3, 5, 8, 13, 21, .... Write a Python program to get the Fibonacci series between 0 to 50. (20 pts)\n",
    "***Hints: Initial x = 0, y = 1. Use a while loop to calculate the fibonacci formula, update x, y and print your result.***"
   ]
  },
  {
   "cell_type": "code",
   "execution_count": null,
   "id": "eebe599b",
   "metadata": {},
   "outputs": [],
   "source": []
  },
  {
   "cell_type": "markdown",
   "id": "098db5b1",
   "metadata": {},
   "source": [
    "## BONUS (20 pts)"
   ]
  },
  {
   "cell_type": "markdown",
   "id": "1825db53",
   "metadata": {},
   "source": [
    "### 1. Given a list S of numbers. Write a Python program to find the most occurrence number and its number of occurrences. (10 pts)"
   ]
  },
  {
   "cell_type": "code",
   "execution_count": 6,
   "id": "5d8d9677",
   "metadata": {},
   "outputs": [],
   "source": [
    "S = [1,1,4,6,2,7,4,9,3,4,8,4,6,22,26,4,7]"
   ]
  },
  {
   "cell_type": "markdown",
   "id": "011496e3",
   "metadata": {},
   "source": [
    "### 2. Given a positive integer. Write a Python program to print all prime numbers less than this number. (10 pts)"
   ]
  },
  {
   "cell_type": "code",
   "execution_count": 4,
   "id": "fb3eec27",
   "metadata": {},
   "outputs": [],
   "source": [
    "n = 78"
   ]
  }
 ],
 "metadata": {
  "kernelspec": {
   "display_name": "Python 3",
   "language": "python",
   "name": "python3"
  },
  "language_info": {
   "codemirror_mode": {
    "name": "ipython",
    "version": 3
   },
   "file_extension": ".py",
   "mimetype": "text/x-python",
   "name": "python",
   "nbconvert_exporter": "python",
   "pygments_lexer": "ipython3",
   "version": "3.8.8"
  }
 },
 "nbformat": 4,
 "nbformat_minor": 5
}
